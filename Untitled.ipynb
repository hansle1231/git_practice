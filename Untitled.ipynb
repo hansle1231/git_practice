{
 "cells": [
  {
   "cell_type": "code",
   "execution_count": 1,
   "id": "88e6edaa",
   "metadata": {},
   "outputs": [],
   "source": [
    "import pandas "
   ]
  },
  {
   "cell_type": "code",
   "execution_count": null,
   "id": "1c1e8101",
   "metadata": {},
   "outputs": [],
   "source": [
    "sdasdasdasd"
   ]
  },
  {
   "cell_type": "code",
   "execution_count": null,
   "id": "cf00a193",
   "metadata": {},
   "outputs": [],
   "source": [
    "qweqwe"
   ]
  }
 ],
 "metadata": {
  "kernelspec": {
   "display_name": "py38",
   "language": "python",
   "name": "py38"
  },
  "language_info": {
   "codemirror_mode": {
    "name": "ipython",
    "version": 3
   },
   "file_extension": ".py",
   "mimetype": "text/x-python",
   "name": "python",
   "nbconvert_exporter": "python",
   "pygments_lexer": "ipython3",
   "version": "3.8.18"
  }
 },
 "nbformat": 4,
 "nbformat_minor": 5
}
